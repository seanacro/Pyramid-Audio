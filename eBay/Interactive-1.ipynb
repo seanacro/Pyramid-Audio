{
 "cells": [
  {
   "cell_type": "markdown",
   "metadata": {
    "isInteractiveWindowMessageCell": true
   },
   "source": [
    "Restarted Python 3.11.4"
   ]
  },
  {
   "cell_type": "code",
   "execution_count": 1,
   "metadata": {},
   "outputs": [],
   "source": [
    "from pathlib import Path\n",
    "import re\n",
    "import dbf\n",
    "import csv\n",
    "import json\n",
    "from datetime import date\n",
    "\n",
    "# Primary path\n",
    "PATH = Path('C:/dbase/pyScripts/eBay/')\n",
    "\n",
    "# eBay report csv\n",
    "input_file = Path('/'.join([str(PATH),'18Report.csv']))\n",
    "# dBase AD Table\n",
    "dBase_file = Path('/'.join([str(PATH),'ad.dbf']))\n",
    "ad = dbf.Table(filename=str(dBase_file))\n",
    "ad.open(dbf.READ_WRITE)\n",
    "\n",
    "# dBase fieldnames that need to be populated\n",
    "# and modules that we sell. Populated fields will\n",
    "# be returned as function values\n",
    "with open(Path('/'.join([str(PATH), 'fields.json']))) as fields_file:\n",
    "    fields = json.load(fields_file)\n",
    "modules = [\n",
    "    'S-100+',\n",
    "    'SP-40W+',\n",
    "    'STK0050+',\n",
    "    'STK0059+',\n",
    "    'STK0080+',\n",
    "    'STK1060+',\n",
    "    'STK1070+',\n",
    "    'TA-100W+',\n",
    "    'TA-100WA+',\n",
    "    'TA-200W+'\n",
    "]\n",
    "\n",
    "# Price breakdown (Parts/Labor/Shipping) \n",
    "# of all modules that we sell\n",
    "with open(Path('/'.join([str(PATH), 'Module_Price_List.json']))) as price_file:\n",
    "    price_list = json.load(price_file)\n",
    "    \n",
    "\n",
    "# Ingest csv reports from eBay and \n",
    "# return dBase record formatted data\n",
    "def order_parser(row):\n",
    "\n",
    "    def name_sort(order):\n",
    "        # Split buyer name into \"first\" and \"last\" names\n",
    "        return {\n",
    "            'first': order['Buyer Name'].split(' ')[0].upper(),\n",
    "            'last': order['Buyer Name'].split(' ')[0-1].upper()\n",
    "        }\n",
    "    \n",
    "    def address(order):\n",
    "        # Define address according to dBase record format\n",
    "        return {\n",
    "            'street': ' '.join([order['Ship To Address 1'], order['Ship To Address 2']]).upper(),\n",
    "            'city' : order['Ship To City'].upper(),\n",
    "            'state': order['Ship To State'].upper(),\n",
    "            'zip': order['Ship To Zip'].split('-')[0]\n",
    "        }\n",
    "\n",
    "    def item_name(order):\n",
    "        # If the item is one of our TA/STK Modules,\n",
    "        # return the module name\n",
    "        # Return tech/warr fields as appropriate\n",
    "        if order['Item Title'].split(' ')[0] in modules:\n",
    "            return {\n",
    "                'make': 'MINE',\n",
    "                'model': order['Item Title'].split(' ')[0],\n",
    "                'tech': 'C',\n",
    "                'warranty': ''\n",
    "            }\n",
    "        # If the item is an ODR Outer, the naming\n",
    "        # format is a bit different\n",
    "        elif order['Item Title'].split(' ')[0:2] == ['Pioneer', 'ODR']:\n",
    "            return {\n",
    "                'make': 'MINE',\n",
    "                'model': 'ODR Outer',\n",
    "                'tech': 'C',\n",
    "                'warranty': ''\n",
    "            }\n",
    "        # If we sold something else entirely,\n",
    "        # \"MINE\" will not be the \"MAKE\" value\n",
    "        else:\n",
    "            return {\n",
    "                'make': order['Item Title'].split(' ')[0].upper(),\n",
    "                'model': order['Item Title'].split(' ')[1],\n",
    "                'tech': '',\n",
    "                'warranty': 'PARTS'\n",
    "            }\n",
    "\n",
    "    def complaint(order):\n",
    "        # Simple string that shows qty of items\n",
    "        # for dBase records\n",
    "        if int(order['Quantity']) == 1:\n",
    "            module = 'MODULE'\n",
    "        elif int(order['Quantity']) > 1:\n",
    "            module = 'MODULES'\n",
    "        return '  '.join([' ', order['Quantity'], item_name(order)['model'], module])\n",
    "    \n",
    "    def module_pricing(item_name):\n",
    "        # Price breakdown (Parts/Labor/Shipping) \n",
    "        # of all modules that we sell\n",
    "        return price_list[item_name]\n",
    "\n",
    "    def field_trim(field, item):\n",
    "        field_length = len(getattr(ad[0], field))\n",
    "        if len(item) > field_length:\n",
    "            return item[:field_length]\n",
    "        else:\n",
    "            return item\n",
    "\n",
    "    # Return a copy of a record's fields with all\n",
    "    # relevant fields populated\n",
    "    fields['FIRST'] = field_trim('FIRST', name_sort(row)['first'])\n",
    "    fields['LAST'] = field_trim('LAST', name_sort(row)['last'])\n",
    "    fields['STREET'] = field_trim('STREET', address(row)['street'])\n",
    "    fields['CITY'] = field_trim('CITY', address(row)['city'])\n",
    "    fields['STATE'] = field_trim('STATE', address(row)['state'])\n",
    "    fields['ZIP'] = address(row)['zip']\n",
    "    fields['MAKE'] = field_trim('MAKE', item_name(row)['make'])\n",
    "    model = item_name(row)['model']\n",
    "    fields['MODEL'] = field_trim('MODEL', model)\n",
    "    fields['COMP'] = complaint(row)\n",
    "    fields['TECH'] = item_name(row)['tech']\n",
    "    today = dbf.Date(date.today())\n",
    "    fields['DATE_IN'] = today\n",
    "    fields['DATE_OUT'] = today\n",
    "    fields['WARR'] = item_name(row)['warranty']\n",
    "    fields['PAID_LABOR'] = module_pricing(model)['labor'] * float(row['Quantity'])\n",
    "    fields['PAID_PARTS'] = module_pricing(model)['parts'] * float(row['Quantity'])\n",
    "    fields['NOTAX'] = module_pricing(model)['ship'] * float(row['Quantity'])\n",
    "    fields['AMT_DEP'] = module_pricing(model)['total'] * float(row['Quantity'])\n",
    "    return fields"
   ]
  },
  {
   "cell_type": "code",
   "execution_count": 2,
   "metadata": {},
   "outputs": [
    {
     "name": "stdout",
     "output_type": "stream",
     "text": [
      "{'Sales Record Number': '979', 'Order Number': '18-11228-92736', 'Buyer Username': 'alexowright', 'Buyer Name': 'alex O wright', 'Buyer Email': '35d1803d373d92183889@members.ebay.com', 'Buyer Note': '', 'Buyer Address 1': '8615 Jackson Springs Rd', 'Buyer Address 2': '', 'Buyer City': 'Tampa', 'Buyer State': 'FL', 'Buyer Zip': '33615-3207', 'Buyer Country': 'United States', 'Buyer Tax Identifier Name': '', 'Buyer Tax Identifier Value': '', 'Ship To Name': 'alex wright', 'Ship To Phone': '+1 813-360-4557', 'Ship To Address 1': '8615 Jackson Springs Rd', 'Ship To Address 2': '', 'Ship To City': 'Tampa', 'Ship To State': 'FL', 'Ship To Zip': '33615-3207', 'Ship To Country': 'United States', 'Item Number': '126054497095', 'Item Title': 'STK0050+   Pioneer  SX-780 or marantz  SR4000  replaces  STK0050 STK0030 STK0040', 'Custom Label': '', 'Sold Via Promoted Listings': 'No', 'Quantity': '2', 'Sold For': '$64.99', 'Shipping And Handling': '$0.00', 'Item Location': 'Austin, Texas', 'Item Zip Code': '78753', 'Item Country': 'US', 'eBay Collect And Remit Tax Rate': '7.50', 'eBay Collect And Remit Tax Type': 'Sales tax', 'eBay Reference Name': '', 'eBay Reference Value': '', 'Tax Status': '', 'Seller Collected Tax': '$0.00', 'eBay Collected Tax': '$9.75', 'Electronic Waste Recycling Fee': '$0.00', 'Mattress Recycling Fee': '$0.00', 'Battery Recycling Fee': '$0.00', 'White Goods Disposal Tax': '$0.00', 'Tire Recycling Fee': '$0.00', 'Additional Fee': '$0.00', 'eBay Collected Charges': '$0.00', 'Total Price': '$139.73', 'eBay Collected Tax and Fees Included in Total': 'Yes', 'Payment Method': '', 'Sale Date': 'Feb-26-24', 'Paid On Date': 'Feb-26-24', 'Ship By Date': 'Feb-28-24', 'Minimum Estimated Delivery Date': 'Mar-02-24', 'Maximum Estimated Delivery Date': 'Mar-02-24', 'Shipped On Date': 'Feb-26-24', 'Feedback Left': 'No', 'Feedback Received': '', 'My Item Note': '', 'PayPal Transaction ID': '', 'Shipping Service': 'USPS First Class', 'Tracking Number': '9400108205498682130392', 'Transaction ID': '2712932068002', 'Variation Details': '', 'Global Shipping Program': 'No', 'Global Shipping Reference ID': '', 'Click And Collect': 'No', 'Click And Collect Reference Number': '', 'eBay Plus': 'No', 'Authenticity Verification Program': 'No', 'Authenticity Verification Status': '', 'Authenticity Verification Outcome Reason': '', 'eBay Vault Program': 'No', 'Vault Fulfillment Type': '', 'eBay Fulfillment Program': 'No', 'Tax City': 'Tampa', 'Tax State': 'FL', 'Tax Zip': '33615-3207', 'Tax Country': 'United States', 'eBay International Shipping': 'No'}\n",
      "{'Sales Record Number': '978', 'Order Number': '15-11219-28828', 'Buyer Username': 'f1-fan63', 'Buyer Name': 'Mark Horne', 'Buyer Email': '6b84dd4131e57e83e062@members.ebay.com', 'Buyer Note': '', 'Buyer Address 1': '1660 Hillcrest Dr', 'Buyer Address 2': '', 'Buyer City': 'De Soto', 'Buyer State': 'MO', 'Buyer Zip': '63020-2902', 'Buyer Country': 'United States', 'Buyer Tax Identifier Name': '', 'Buyer Tax Identifier Value': '', 'Ship To Name': 'Mark Horne', 'Ship To Phone': '+1 636-586-1481', 'Ship To Address 1': '1660 Hillcrest Dr', 'Ship To Address 2': '', 'Ship To City': 'De Soto', 'Ship To State': 'MO', 'Ship To Zip': '63020-2902', 'Ship To Country': 'United States', 'Item Number': '125973305634', 'Item Title': 'STK0059+  output IC   replaces   STK0029  STK0039  STK0049  STK0059', 'Custom Label': '', 'Sold Via Promoted Listings': 'No', 'Quantity': '1', 'Sold For': '$59.99', 'Shipping And Handling': '$0.00', 'Item Location': 'Austin, Texas', 'Item Zip Code': '78753', 'Item Country': 'US', 'eBay Collect And Remit Tax Rate': '4.23', 'eBay Collect And Remit Tax Type': 'Sales tax', 'eBay Reference Name': '', 'eBay Reference Value': '', 'Tax Status': '', 'Seller Collected Tax': '$0.00', 'eBay Collected Tax': '$2.53', 'Electronic Waste Recycling Fee': '$0.00', 'Mattress Recycling Fee': '$0.00', 'Battery Recycling Fee': '$0.00', 'White Goods Disposal Tax': '$0.00', 'Tire Recycling Fee': '$0.00', 'Additional Fee': '$0.00', 'eBay Collected Charges': '$0.00', 'Total Price': '$62.52', 'eBay Collected Tax and Fees Included in Total': 'Yes', 'Payment Method': '', 'Sale Date': 'Feb-23-24', 'Paid On Date': 'Feb-23-24', 'Ship By Date': 'Feb-27-24', 'Minimum Estimated Delivery Date': 'Feb-27-24', 'Maximum Estimated Delivery Date': 'Feb-27-24', 'Shipped On Date': 'Feb-23-24', 'Feedback Left': 'No', 'Feedback Received': '', 'My Item Note': '', 'PayPal Transaction ID': '', 'Shipping Service': 'USPS Ground Advantage', 'Tracking Number': '9400108205498666930291', 'Transaction ID': '2712038596002', 'Variation Details': '', 'Global Shipping Program': 'No', 'Global Shipping Reference ID': '', 'Click And Collect': 'No', 'Click And Collect Reference Number': '', 'eBay Plus': 'No', 'Authenticity Verification Program': 'No', 'Authenticity Verification Status': '', 'Authenticity Verification Outcome Reason': '', 'eBay Vault Program': 'No', 'Vault Fulfillment Type': '', 'eBay Fulfillment Program': 'No', 'Tax City': 'De Soto', 'Tax State': 'MO', 'Tax Zip': '63020-2902', 'Tax Country': 'United States', 'eBay International Shipping': 'No'}\n",
      "{'Sales Record Number': '977', 'Order Number': '20-11203-92076', 'Buyer Username': '1scheid', 'Buyer Name': 'Dale T. Scheidemantle', 'Buyer Email': '', 'Buyer Note': '', 'Buyer Address 1': '211 Owl Ln', 'Buyer Address 2': '', 'Buyer City': 'Camdenton', 'Buyer State': 'MO', 'Buyer Zip': '65020-8053', 'Buyer Country': 'United States', 'Buyer Tax Identifier Name': '', 'Buyer Tax Identifier Value': '', 'Ship To Name': 'Dale Scheidemantle', 'Ship To Phone': '+1 573-280-5593', 'Ship To Address 1': '211 Owl Ln', 'Ship To Address 2': '', 'Ship To City': 'Camdenton', 'Ship To State': 'MO', 'Ship To Zip': '65020-8053', 'Ship To Country': 'United States', 'Item Number': '126054497095', 'Item Title': 'STK0050+   Pioneer  SX-780 or marantz  SR4000  replaces  STK0050 STK0030 STK0040', 'Custom Label': '', 'Sold Via Promoted Listings': 'No', 'Quantity': '4', 'Sold For': '$64.99', 'Shipping And Handling': '$0.00', 'Item Location': 'Austin, Texas', 'Item Zip Code': '78753', 'Item Country': 'US', 'eBay Collect And Remit Tax Rate': '5.73', 'eBay Collect And Remit Tax Type': 'Sales tax', 'eBay Reference Name': '', 'eBay Reference Value': '', 'Tax Status': '', 'Seller Collected Tax': '$0.00', 'eBay Collected Tax': '$14.88', 'Electronic Waste Recycling Fee': '$0.00', 'Mattress Recycling Fee': '$0.00', 'Battery Recycling Fee': '$0.00', 'White Goods Disposal Tax': '$0.00', 'Tire Recycling Fee': '$0.00', 'Additional Fee': '$0.00', 'eBay Collected Charges': '$0.00', 'Total Price': '$274.84', 'eBay Collected Tax and Fees Included in Total': 'Yes', 'Payment Method': '', 'Sale Date': 'Feb-20-24', 'Paid On Date': 'Feb-20-24', 'Ship By Date': 'Feb-22-24', 'Minimum Estimated Delivery Date': 'Feb-26-24', 'Maximum Estimated Delivery Date': 'Feb-26-24', 'Shipped On Date': 'Feb-21-24', 'Feedback Left': 'No', 'Feedback Received': 'positive', 'My Item Note': '', 'PayPal Transaction ID': '420004_S', 'Shipping Service': 'USPS First Class', 'Tracking Number': '9400108205498660149194', 'Transaction ID': '2711207121002', 'Variation Details': '', 'Global Shipping Program': 'No', 'Global Shipping Reference ID': '', 'Click And Collect': 'No', 'Click And Collect Reference Number': '', 'eBay Plus': 'No', 'Authenticity Verification Program': 'No', 'Authenticity Verification Status': '', 'Authenticity Verification Outcome Reason': '', 'eBay Vault Program': 'No', 'Vault Fulfillment Type': '', 'eBay Fulfillment Program': 'No', 'Tax City': 'Camdenton', 'Tax State': 'MO', 'Tax Zip': '65020-8053', 'Tax Country': 'United States', 'eBay International Shipping': 'No'}\n",
      "{'Sales Record Number': '976', 'Order Number': '08-11211-70708', 'Buyer Username': 'daemontech', 'Buyer Name': 'Nicole Harrington', 'Buyer Email': '', 'Buyer Note': '', 'Buyer Address 1': '375 Burnside Bnd', 'Buyer Address 2': '', 'Buyer City': 'Boulder Creek', 'Buyer State': 'CA', 'Buyer Zip': '95006-9337', 'Buyer Country': 'United States', 'Buyer Tax Identifier Name': '', 'Buyer Tax Identifier Value': '', 'Ship To Name': 'N. Harrington', 'Ship To Phone': '+1 510-274-1169', 'Ship To Address 1': '375 Burnside Bnd', 'Ship To Address 2': '', 'Ship To City': 'Boulder Creek', 'Ship To State': 'CA', 'Ship To Zip': '95006-9337', 'Ship To Country': 'United States', 'Item Number': '126333386659', 'Item Title': 'STK1070+  replaces STK1070/ 1080 .', 'Custom Label': '', 'Sold Via Promoted Listings': 'No', 'Quantity': '2', 'Sold For': '$64.99', 'Shipping And Handling': '$0.00', 'Item Location': 'Austin, Texas', 'Item Zip Code': '78753', 'Item Country': 'US', 'eBay Collect And Remit Tax Rate': '9.00', 'eBay Collect And Remit Tax Type': 'Sales tax', 'eBay Reference Name': '', 'eBay Reference Value': '', 'Tax Status': '', 'Seller Collected Tax': '$0.00', 'eBay Collected Tax': '$11.70', 'Electronic Waste Recycling Fee': '$0.00', 'Mattress Recycling Fee': '$0.00', 'Battery Recycling Fee': '$0.00', 'White Goods Disposal Tax': '$0.00', 'Tire Recycling Fee': '$0.00', 'Additional Fee': '$0.00', 'eBay Collected Charges': '$0.00', 'Total Price': '$141.68', 'eBay Collected Tax and Fees Included in Total': 'Yes', 'Payment Method': '', 'Sale Date': 'Feb-20-24', 'Paid On Date': 'Feb-20-24', 'Ship By Date': 'Feb-22-24', 'Minimum Estimated Delivery Date': 'Feb-26-24', 'Maximum Estimated Delivery Date': 'Feb-26-24', 'Shipped On Date': 'Feb-20-24', 'Feedback Left': 'No', 'Feedback Received': '', 'My Item Note': '', 'PayPal Transaction ID': '420004_S', 'Shipping Service': 'USPS Ground Advantage', 'Tracking Number': '9400108205498656874604', 'Transaction ID': '2711129048002', 'Variation Details': '', 'Global Shipping Program': 'No', 'Global Shipping Reference ID': '', 'Click And Collect': 'No', 'Click And Collect Reference Number': '', 'eBay Plus': 'No', 'Authenticity Verification Program': 'No', 'Authenticity Verification Status': '', 'Authenticity Verification Outcome Reason': '', 'eBay Vault Program': 'No', 'Vault Fulfillment Type': '', 'eBay Fulfillment Program': 'No', 'Tax City': 'Boulder Creek', 'Tax State': 'CA', 'Tax Zip': '95006-9337', 'Tax Country': 'United States', 'eBay International Shipping': 'No'}\n",
      "{'Sales Record Number': '975', 'Order Number': '07-11197-09301', 'Buyer Username': 'lbarton001', 'Buyer Name': 'Lex Barton', 'Buyer Email': '', 'Buyer Note': '', 'Buyer Address 1': '155 Busey Blvd', 'Buyer Address 2': '', 'Buyer City': 'Decatur', 'Buyer State': 'TX', 'Buyer Zip': '76234-4778', 'Buyer Country': 'United States', 'Buyer Tax Identifier Name': '', 'Buyer Tax Identifier Value': '', 'Ship To Name': 'Lex Barton', 'Ship To Phone': '+1 832-443-4976', 'Ship To Address 1': '155 Busey Blvd', 'Ship To Address 2': '', 'Ship To City': 'Decatur', 'Ship To State': 'TX', 'Ship To Zip': '76234-4778', 'Ship To Country': 'United States', 'Item Number': '126108614633', 'Item Title': 'TA-200W+   Super Replacement for the Kenwood  TA-200W     Kenwood KR-9600', 'Custom Label': '', 'Sold Via Promoted Listings': 'No', 'Quantity': '2', 'Sold For': '$159.99', 'Shipping And Handling': '$0.00', 'Item Location': 'Austin, Texas', 'Item Zip Code': '78753', 'Item Country': 'US', 'eBay Collect And Remit Tax Rate': '6.75', 'eBay Collect And Remit Tax Type': 'Sales tax', 'eBay Reference Name': '', 'eBay Reference Value': '', 'Tax Status': '', 'Seller Collected Tax': '$0.00', 'eBay Collected Tax': '$21.60', 'Electronic Waste Recycling Fee': '$0.00', 'Mattress Recycling Fee': '$0.00', 'Battery Recycling Fee': '$0.00', 'White Goods Disposal Tax': '$0.00', 'Tire Recycling Fee': '$0.00', 'Additional Fee': '$0.00', 'eBay Collected Charges': '$0.00', 'Total Price': '$341.58', 'eBay Collected Tax and Fees Included in Total': 'Yes', 'Payment Method': '', 'Sale Date': 'Feb-16-24', 'Paid On Date': 'Feb-16-24', 'Ship By Date': 'Feb-21-24', 'Minimum Estimated Delivery Date': 'Feb-22-24', 'Maximum Estimated Delivery Date': 'Feb-22-24', 'Shipped On Date': 'Feb-19-24', 'Feedback Left': 'No', 'Feedback Received': '', 'My Item Note': '', 'PayPal Transaction ID': '', 'Shipping Service': 'USPS First Class', 'Tracking Number': '9400108205499810928713', 'Transaction ID': '2710103718002', 'Variation Details': '', 'Global Shipping Program': 'No', 'Global Shipping Reference ID': '', 'Click And Collect': 'No', 'Click And Collect Reference Number': '', 'eBay Plus': 'No', 'Authenticity Verification Program': 'No', 'Authenticity Verification Status': '', 'Authenticity Verification Outcome Reason': '', 'eBay Vault Program': 'No', 'Vault Fulfillment Type': '', 'eBay Fulfillment Program': 'No', 'Tax City': 'Decatur', 'Tax State': 'TX', 'Tax Zip': '76234-4778', 'Tax Country': 'United States', 'eBay International Shipping': 'No'}\n",
      "{'Sales Record Number': '974', 'Order Number': '07-11188-56304', 'Buyer Username': 'bouncer.mike', 'Buyer Name': \"Michael Shawn O'rourke\", 'Buyer Email': '', 'Buyer Note': '', 'Buyer Address 1': '547 NW Lake Valley Ter', 'Buyer Address 2': '', 'Buyer City': 'Lake City', 'Buyer State': 'FL', 'Buyer Zip': '32055-8644', 'Buyer Country': 'United States', 'Buyer Tax Identifier Name': '', 'Buyer Tax Identifier Value': '', 'Ship To Name': \"Michael O'Rourke\", 'Ship To Phone': '+1 727-686-6691', 'Ship To Address 1': '547 NW Lake Valley Ter', 'Ship To Address 2': '', 'Ship To City': 'Lake City', 'Ship To State': 'FL', 'Ship To Zip': '32055-8644', 'Ship To Country': 'United States', 'Item Number': '126054497095', 'Item Title': 'STK0050+   Pioneer  SX-780 or marantz  SR4000  replaces  STK0050 STK0030 STK0040', 'Custom Label': '', 'Sold Via Promoted Listings': 'No', 'Quantity': '2', 'Sold For': '$64.99', 'Shipping And Handling': '$0.00', 'Item Location': 'Austin, Texas', 'Item Zip Code': '78753', 'Item Country': 'US', 'eBay Collect And Remit Tax Rate': '7.50', 'eBay Collect And Remit Tax Type': 'Sales tax', 'eBay Reference Name': '', 'eBay Reference Value': '', 'Tax Status': '', 'Seller Collected Tax': '$0.00', 'eBay Collected Tax': '$9.75', 'Electronic Waste Recycling Fee': '$0.00', 'Mattress Recycling Fee': '$0.00', 'Battery Recycling Fee': '$0.00', 'White Goods Disposal Tax': '$0.00', 'Tire Recycling Fee': '$0.00', 'Additional Fee': '$0.00', 'eBay Collected Charges': '$0.00', 'Total Price': '$139.73', 'eBay Collected Tax and Fees Included in Total': 'Yes', 'Payment Method': '', 'Sale Date': 'Feb-14-24', 'Paid On Date': 'Feb-14-24', 'Ship By Date': 'Feb-16-24', 'Minimum Estimated Delivery Date': 'Feb-20-24', 'Maximum Estimated Delivery Date': 'Feb-20-24', 'Shipped On Date': 'Feb-15-24', 'Feedback Left': 'No', 'Feedback Received': 'positive', 'My Item Note': '', 'PayPal Transaction ID': '420004_S', 'Shipping Service': 'USPS First Class', 'Tracking Number': '9400108205498640061584', 'Transaction ID': '2709568382002', 'Variation Details': '', 'Global Shipping Program': 'No', 'Global Shipping Reference ID': '', 'Click And Collect': 'No', 'Click And Collect Reference Number': '', 'eBay Plus': 'No', 'Authenticity Verification Program': 'No', 'Authenticity Verification Status': '', 'Authenticity Verification Outcome Reason': '', 'eBay Vault Program': 'No', 'Vault Fulfillment Type': '', 'eBay Fulfillment Program': 'No', 'Tax City': 'Lake City', 'Tax State': 'FL', 'Tax Zip': '32055-8644', 'Tax Country': 'United States', 'eBay International Shipping': 'No'}\n",
      "{'Sales Record Number': '973', 'Order Number': '08-11182-71575', 'Buyer Username': 'classicaudio777', 'Buyer Name': 'Fred Longworth', 'Buyer Email': '', 'Buyer Note': '', 'Buyer Address 1': '8872 La Mesa Blvd', 'Buyer Address 2': '', 'Buyer City': 'La Mesa', 'Buyer State': 'CA', 'Buyer Zip': '91942-5437', 'Buyer Country': 'United States', 'Buyer Tax Identifier Name': '', 'Buyer Tax Identifier Value': '', 'Ship To Name': 'Fred Longworth - Classic Audio Repair', 'Ship To Phone': '+1 619-439-7890', 'Ship To Address 1': '8872 La Mesa Blvd', 'Ship To Address 2': '', 'Ship To City': 'La Mesa', 'Ship To State': 'CA', 'Ship To Zip': '91942-5437', 'Ship To Country': 'United States', 'Item Number': '125302667301', 'Item Title': 'STK1060+   replaces  STK1030 STK1040 STK1050 STK1060', 'Custom Label': '', 'Sold Via Promoted Listings': 'No', 'Quantity': '2', 'Sold For': '$59.99', 'Shipping And Handling': '$0.00', 'Item Location': 'Austin, Texas', 'Item Zip Code': '78753', 'Item Country': 'US', 'eBay Collect And Remit Tax Rate': '8.50', 'eBay Collect And Remit Tax Type': 'Sales tax', 'eBay Reference Name': '', 'eBay Reference Value': '', 'Tax Status': '', 'Seller Collected Tax': '$0.00', 'eBay Collected Tax': '$10.20', 'Electronic Waste Recycling Fee': '$0.00', 'Mattress Recycling Fee': '$0.00', 'Battery Recycling Fee': '$0.00', 'White Goods Disposal Tax': '$0.00', 'Tire Recycling Fee': '$0.00', 'Additional Fee': '$0.00', 'eBay Collected Charges': '$0.00', 'Total Price': '$130.18', 'eBay Collected Tax and Fees Included in Total': 'Yes', 'Payment Method': '', 'Sale Date': 'Feb-13-24', 'Paid On Date': 'Feb-13-24', 'Ship By Date': 'Feb-15-24', 'Minimum Estimated Delivery Date': 'Feb-20-24', 'Maximum Estimated Delivery Date': 'Feb-20-24', 'Shipped On Date': 'Feb-14-24', 'Feedback Left': 'No', 'Feedback Received': '', 'My Item Note': '', 'PayPal Transaction ID': '', 'Shipping Service': 'USPS First Class', 'Tracking Number': '9400108205499795117669', 'Transaction ID': '2709261704002', 'Variation Details': '', 'Global Shipping Program': 'No', 'Global Shipping Reference ID': '', 'Click And Collect': 'No', 'Click And Collect Reference Number': '', 'eBay Plus': 'No', 'Authenticity Verification Program': 'No', 'Authenticity Verification Status': '', 'Authenticity Verification Outcome Reason': '', 'eBay Vault Program': 'No', 'Vault Fulfillment Type': '', 'eBay Fulfillment Program': 'No', 'Tax City': 'La Mesa', 'Tax State': 'CA', 'Tax Zip': '91942-5437', 'Tax Country': 'United States', 'eBay International Shipping': 'No'}\n",
      "{'Sales Record Number': '972', 'Order Number': '07-11182-03769', 'Buyer Username': 'elangley01', 'Buyer Name': 'Eric Langley', 'Buyer Email': '', 'Buyer Note': '', 'Buyer Address 1': '250 Monroe Ave', 'Buyer Address 2': '', 'Buyer City': 'River Edge', 'Buyer State': 'NJ', 'Buyer Zip': '07661-1314', 'Buyer Country': 'United States', 'Buyer Tax Identifier Name': '', 'Buyer Tax Identifier Value': '', 'Ship To Name': 'Eric Langley', 'Ship To Phone': '+1 347-328-2803', 'Ship To Address 1': '250 Monroe Ave', 'Ship To Address 2': '', 'Ship To City': 'River Edge', 'Ship To State': 'NJ', 'Ship To Zip': '07661-1314', 'Ship To Country': 'United States', 'Item Number': '125159684482', 'Item Title': 'TA-100WA+   Super Replacement for the  Kenwood KA-9100   KA-9150', 'Custom Label': '', 'Sold Via Promoted Listings': 'No', 'Quantity': '2', 'Sold For': '$79.00', 'Shipping And Handling': '$0.00', 'Item Location': 'Austin, Texas', 'Item Zip Code': '78753', 'Item Country': 'US', 'eBay Collect And Remit Tax Rate': '6.63', 'eBay Collect And Remit Tax Type': 'Sales tax', 'eBay Reference Name': '', 'eBay Reference Value': '', 'Tax Status': '', 'Seller Collected Tax': '$0.00', 'eBay Collected Tax': '$10.47', 'Electronic Waste Recycling Fee': '$0.00', 'Mattress Recycling Fee': '$0.00', 'Battery Recycling Fee': '$0.00', 'White Goods Disposal Tax': '$0.00', 'Tire Recycling Fee': '$0.00', 'Additional Fee': '$0.00', 'eBay Collected Charges': '$0.00', 'Total Price': '$168.47', 'eBay Collected Tax and Fees Included in Total': 'Yes', 'Payment Method': '', 'Sale Date': 'Feb-13-24', 'Paid On Date': 'Feb-13-24', 'Ship By Date': 'Feb-15-24', 'Minimum Estimated Delivery Date': 'Feb-21-24', 'Maximum Estimated Delivery Date': 'Feb-21-24', 'Shipped On Date': 'Feb-13-24', 'Feedback Left': 'No', 'Feedback Received': 'positive', 'My Item Note': '', 'PayPal Transaction ID': '', 'Shipping Service': 'USPS First Class', 'Tracking Number': '9400108205499793562737', 'Transaction ID': '2709162258002', 'Variation Details': '', 'Global Shipping Program': 'No', 'Global Shipping Reference ID': '', 'Click And Collect': 'No', 'Click And Collect Reference Number': '', 'eBay Plus': 'No', 'Authenticity Verification Program': 'No', 'Authenticity Verification Status': '', 'Authenticity Verification Outcome Reason': '', 'eBay Vault Program': 'No', 'Vault Fulfillment Type': '', 'eBay Fulfillment Program': 'No', 'Tax City': 'River Edge', 'Tax State': 'NJ', 'Tax Zip': '07661-1314', 'Tax Country': 'United States', 'eBay International Shipping': 'No'}\n",
      "{'Sales Record Number': '971', 'Order Number': '14-11176-07737', 'Buyer Username': 'classicvinyls', 'Buyer Name': 'john ruiz', 'Buyer Email': '', 'Buyer Note': '', 'Buyer Address 1': '7625 Old Live Oak Dr', 'Buyer Address 2': '', 'Buyer City': 'Denham Springs', 'Buyer State': 'LA', 'Buyer Zip': '70706-0996', 'Buyer Country': 'United States', 'Buyer Tax Identifier Name': '', 'Buyer Tax Identifier Value': '', 'Ship To Name': 'John Ruiz', 'Ship To Phone': '+1 225-324-1510', 'Ship To Address 1': '7625 Old Live Oak Dr', 'Ship To Address 2': '', 'Ship To City': 'Denham Springs', 'Ship To State': 'LA', 'Ship To Zip': '70706-0996', 'Ship To Country': 'United States', 'Item Number': '125973305634', 'Item Title': 'STK0059+  output IC   replaces   STK0029  STK0039  STK0049  STK0059', 'Custom Label': '', 'Sold Via Promoted Listings': 'No', 'Quantity': '1', 'Sold For': '$59.99', 'Shipping And Handling': '$0.00', 'Item Location': 'Austin, Texas', 'Item Zip Code': '78753', 'Item Country': 'US', 'eBay Collect And Remit Tax Rate': '9.95', 'eBay Collect And Remit Tax Type': 'Sales tax', 'eBay Reference Name': '', 'eBay Reference Value': '', 'Tax Status': '', 'Seller Collected Tax': '$0.00', 'eBay Collected Tax': '$5.97', 'Electronic Waste Recycling Fee': '$0.00', 'Mattress Recycling Fee': '$0.00', 'Battery Recycling Fee': '$0.00', 'White Goods Disposal Tax': '$0.00', 'Tire Recycling Fee': '$0.00', 'Additional Fee': '$0.00', 'eBay Collected Charges': '$0.00', 'Total Price': '$65.96', 'eBay Collected Tax and Fees Included in Total': 'Yes', 'Payment Method': '', 'Sale Date': 'Feb-13-24', 'Paid On Date': 'Feb-13-24', 'Ship By Date': 'Feb-15-24', 'Minimum Estimated Delivery Date': 'Feb-20-24', 'Maximum Estimated Delivery Date': 'Feb-20-24', 'Shipped On Date': 'Feb-14-24', 'Feedback Left': 'No', 'Feedback Received': '', 'My Item Note': '', 'PayPal Transaction ID': '420004_S', 'Shipping Service': 'USPS Ground Advantage', 'Tracking Number': '9400108205498635703130', 'Transaction ID': '2709135003002', 'Variation Details': '', 'Global Shipping Program': 'No', 'Global Shipping Reference ID': '', 'Click And Collect': 'No', 'Click And Collect Reference Number': '', 'eBay Plus': 'No', 'Authenticity Verification Program': 'No', 'Authenticity Verification Status': '', 'Authenticity Verification Outcome Reason': '', 'eBay Vault Program': 'No', 'Vault Fulfillment Type': '', 'eBay Fulfillment Program': 'No', 'Tax City': 'Denham Springs', 'Tax State': 'LA', 'Tax Zip': '70706-0996', 'Tax Country': 'United States', 'eBay International Shipping': 'No'}\n",
      "{'Sales Record Number': '970', 'Order Number': '14-11168-19089', 'Buyer Username': 'victorychimp0', 'Buyer Name': 'Kurt Schmidt', 'Buyer Email': '', 'Buyer Note': '', 'Buyer Address 1': '345 Gould Ave', 'Buyer Address 2': '', 'Buyer City': 'Pittsburgh', 'Buyer State': 'PA', 'Buyer Zip': '15214-2016', 'Buyer Country': 'United States', 'Buyer Tax Identifier Name': '', 'Buyer Tax Identifier Value': '', 'Ship To Name': 'Kurt Schmidt', 'Ship To Phone': '+1 978-590-8351', 'Ship To Address 1': '345 Gould Ave', 'Ship To Address 2': '', 'Ship To City': 'Pittsburgh', 'Ship To State': 'PA', 'Ship To Zip': '15214-2016', 'Ship To Country': 'United States', 'Item Number': '125219306356', 'Item Title': 'SP-40W+   replaces  SP-40W    for Pioneer  SX-650  and SA-7300 SA-6700', 'Custom Label': '', 'Sold Via Promoted Listings': 'No', 'Quantity': '2', 'Sold For': '$59.99', 'Shipping And Handling': '$0.00', 'Item Location': 'Austin, Texas', 'Item Zip Code': '78753', 'Item Country': 'US', 'eBay Collect And Remit Tax Rate': '6.00', 'eBay Collect And Remit Tax Type': 'Sales tax', 'eBay Reference Name': '', 'eBay Reference Value': '', 'Tax Status': '', 'Seller Collected Tax': '$0.00', 'eBay Collected Tax': '$7.20', 'Electronic Waste Recycling Fee': '$0.00', 'Mattress Recycling Fee': '$0.00', 'Battery Recycling Fee': '$0.00', 'White Goods Disposal Tax': '$0.00', 'Tire Recycling Fee': '$0.00', 'Additional Fee': '$0.00', 'eBay Collected Charges': '$0.00', 'Total Price': '$127.18', 'eBay Collected Tax and Fees Included in Total': 'Yes', 'Payment Method': '', 'Sale Date': 'Feb-11-24', 'Paid On Date': 'Feb-11-24', 'Ship By Date': 'Feb-13-24', 'Minimum Estimated Delivery Date': 'Feb-20-24', 'Maximum Estimated Delivery Date': 'Feb-20-24', 'Shipped On Date': 'Feb-13-24', 'Feedback Left': 'No', 'Feedback Received': '', 'My Item Note': '', 'PayPal Transaction ID': '', 'Shipping Service': 'USPS First Class', 'Tracking Number': '9400108205499793597586', 'Transaction ID': '2708647707002', 'Variation Details': '', 'Global Shipping Program': 'No', 'Global Shipping Reference ID': '', 'Click And Collect': 'No', 'Click And Collect Reference Number': '', 'eBay Plus': 'No', 'Authenticity Verification Program': 'No', 'Authenticity Verification Status': '', 'Authenticity Verification Outcome Reason': '', 'eBay Vault Program': 'No', 'Vault Fulfillment Type': '', 'eBay Fulfillment Program': 'No', 'Tax City': 'Pittsburgh', 'Tax State': 'PA', 'Tax Zip': '15214-2016', 'Tax Country': 'United States', 'eBay International Shipping': 'No'}\n",
      "{'Sales Record Number': '969', 'Order Number': '07-11163-97388', 'Buyer Username': 'poulakid', 'Buyer Name': 'KIN MY PAN', 'Buyer Email': '', 'Buyer Note': 'Please confirm that these are proper replacements for the Kenwood KA-9100. Thanks', 'Buyer Address 1': '417 S Hidalgo Ave, #C', 'Buyer Address 2': 'ATTN: Jimmy', 'Buyer City': 'Alhambra', 'Buyer State': 'CA', 'Buyer Zip': '91801-4045', 'Buyer Country': 'United States', 'Buyer Tax Identifier Name': '', 'Buyer Tax Identifier Value': '', 'Ship To Name': 'RND-CENTER', 'Ship To Phone': '+1 626-308-2965', 'Ship To Address 1': '417 S Hidalgo Ave, #C', 'Ship To Address 2': 'ATTN: Jimmy', 'Ship To City': 'Alhambra', 'Ship To State': 'CA', 'Ship To Zip': '91801-4045', 'Ship To Country': 'United States', 'Item Number': '125159684482', 'Item Title': 'TA-100WA+   Super Replacement for the  Kenwood KA-9100   KA-9150', 'Custom Label': '', 'Sold Via Promoted Listings': 'No', 'Quantity': '2', 'Sold For': '$79.00', 'Shipping And Handling': '$0.00', 'Item Location': 'Austin, Texas', 'Item Zip Code': '78753', 'Item Country': 'US', 'eBay Collect And Remit Tax Rate': '', 'eBay Collect And Remit Tax Type': '', 'eBay Reference Name': '', 'eBay Reference Value': '', 'Tax Status': '', 'Seller Collected Tax': '$0.00', 'eBay Collected Tax': '$0.00', 'Electronic Waste Recycling Fee': '$0.00', 'Mattress Recycling Fee': '$0.00', 'Battery Recycling Fee': '$0.00', 'White Goods Disposal Tax': '$0.00', 'Tire Recycling Fee': '$0.00', 'Additional Fee': '$0.00', 'eBay Collected Charges': '$0.00', 'Total Price': '$158.00', 'eBay Collected Tax and Fees Included in Total': 'No', 'Payment Method': '', 'Sale Date': 'Feb-08-24', 'Paid On Date': 'Feb-08-24', 'Ship By Date': 'Feb-12-24', 'Minimum Estimated Delivery Date': 'Feb-13-24', 'Maximum Estimated Delivery Date': 'Feb-13-24', 'Shipped On Date': 'Feb-09-24', 'Feedback Left': 'No', 'Feedback Received': '', 'My Item Note': '', 'PayPal Transaction ID': '420004_S', 'Shipping Service': 'USPS First Class', 'Tracking Number': '9400108205498625753800', 'Transaction ID': '2707998112002', 'Variation Details': '', 'Global Shipping Program': 'No', 'Global Shipping Reference ID': '', 'Click And Collect': 'No', 'Click And Collect Reference Number': '', 'eBay Plus': 'No', 'Authenticity Verification Program': 'No', 'Authenticity Verification Status': '', 'Authenticity Verification Outcome Reason': '', 'eBay Vault Program': 'No', 'Vault Fulfillment Type': '', 'eBay Fulfillment Program': 'No', 'Tax City': 'Alhambra', 'Tax State': 'CA', 'Tax Zip': '91801-4045', 'Tax Country': 'United States', 'eBay International Shipping': 'No'}\n",
      "{'Sales Record Number': '968', 'Order Number': '14-11153-57011', 'Buyer Username': 'wilmey9', 'Buyer Name': 'daniel meyer jr', 'Buyer Email': '', 'Buyer Note': '', 'Buyer Address 1': '380 Grandview St #641', 'Buyer Address 2': '', 'Buyer City': 'Glide', 'Buyer State': 'OR', 'Buyer Zip': '97443-0348', 'Buyer Country': 'United States', 'Buyer Tax Identifier Name': '', 'Buyer Tax Identifier Value': '', 'Ship To Name': 'Daniel Meyer', 'Ship To Phone': '+1 541-580-5837', 'Ship To Address 1': '380 Grandview St #641', 'Ship To Address 2': '', 'Ship To City': 'Glide', 'Ship To State': 'OR', 'Ship To Zip': '97443-0348', 'Ship To Country': 'United States', 'Item Number': '126108614633', 'Item Title': 'TA-200W+   Super Replacement for the Kenwood  TA-200W     Kenwood KR-9600', 'Custom Label': '', 'Sold Via Promoted Listings': 'No', 'Quantity': '1', 'Sold For': '$159.99', 'Shipping And Handling': '$0.00', 'Item Location': 'Austin, Texas', 'Item Zip Code': '78753', 'Item Country': 'US', 'eBay Collect And Remit Tax Rate': '', 'eBay Collect And Remit Tax Type': '', 'eBay Reference Name': '', 'eBay Reference Value': '', 'Tax Status': '', 'Seller Collected Tax': '$0.00', 'eBay Collected Tax': '$0.00', 'Electronic Waste Recycling Fee': '$0.00', 'Mattress Recycling Fee': '$0.00', 'Battery Recycling Fee': '$0.00', 'White Goods Disposal Tax': '$0.00', 'Tire Recycling Fee': '$0.00', 'Additional Fee': '$0.00', 'eBay Collected Charges': '$0.00', 'Total Price': '$0.00', 'eBay Collected Tax and Fees Included in Total': 'No', 'Payment Method': '', 'Sale Date': 'Feb-07-24', 'Paid On Date': 'Feb-07-24', 'Ship By Date': 'Feb-09-24', 'Minimum Estimated Delivery Date': 'Feb-12-24', 'Maximum Estimated Delivery Date': 'Feb-16-24', 'Shipped On Date': 'Feb-08-24', 'Feedback Left': 'No', 'Feedback Received': 'positive', 'My Item Note': '', 'PayPal Transaction ID': '420007_S', 'Shipping Service': 'USPS First Class', 'Tracking Number': '9400108205499772222775', 'Transaction ID': '2707679635002', 'Variation Details': '', 'Global Shipping Program': 'No', 'Global Shipping Reference ID': '', 'Click And Collect': 'No', 'Click And Collect Reference Number': '', 'eBay Plus': 'No', 'Authenticity Verification Program': 'No', 'Authenticity Verification Status': '', 'Authenticity Verification Outcome Reason': '', 'eBay Vault Program': 'No', 'Vault Fulfillment Type': '', 'eBay Fulfillment Program': 'No', 'Tax City': 'Glide', 'Tax State': 'OR', 'Tax Zip': '97443-0348', 'Tax Country': 'United States', 'eBay International Shipping': 'No'}\n",
      "{'Sales Record Number': '967', 'Order Number': '06-11157-46141', 'Buyer Username': 'gambinoone', 'Buyer Name': 'Antonio Fabi', 'Buyer Email': '', 'Buyer Note': '', 'Buyer Address 1': '2849 Main St', 'Buyer Address 2': '', 'Buyer City': 'Rocky Hill', 'Buyer State': 'CT', 'Buyer Zip': '06067-3705', 'Buyer Country': 'United States', 'Buyer Tax Identifier Name': '', 'Buyer Tax Identifier Value': '', 'Ship To Name': 'Antonio and Kasia Fabi', 'Ship To Phone': '+1 860-212-6983', 'Ship To Address 1': '2849 Main St', 'Ship To Address 2': '', 'Ship To City': 'Rocky Hill', 'Ship To State': 'CT', 'Ship To Zip': '06067-3705', 'Ship To Country': 'United States', 'Item Number': '126054497095', 'Item Title': 'STK0050+   Pioneer  SX-780 or marantz  SR4000  replaces  STK0050 STK0030 STK0040', 'Custom Label': '', 'Sold Via Promoted Listings': 'No', 'Quantity': '2', 'Sold For': '$64.99', 'Shipping And Handling': '$0.00', 'Item Location': 'Austin, Texas', 'Item Zip Code': '78753', 'Item Country': 'US', 'eBay Collect And Remit Tax Rate': '6.35', 'eBay Collect And Remit Tax Type': 'Sales tax', 'eBay Reference Name': '', 'eBay Reference Value': '', 'Tax Status': '', 'Seller Collected Tax': '$0.00', 'eBay Collected Tax': '$8.25', 'Electronic Waste Recycling Fee': '$0.00', 'Mattress Recycling Fee': '$0.00', 'Battery Recycling Fee': '$0.00', 'White Goods Disposal Tax': '$0.00', 'Tire Recycling Fee': '$0.00', 'Additional Fee': '$0.00', 'eBay Collected Charges': '$0.00', 'Total Price': '$138.23', 'eBay Collected Tax and Fees Included in Total': 'Yes', 'Payment Method': '', 'Sale Date': 'Feb-07-24', 'Paid On Date': 'Feb-07-24', 'Ship By Date': 'Feb-09-24', 'Minimum Estimated Delivery Date': 'Feb-13-24', 'Maximum Estimated Delivery Date': 'Feb-13-24', 'Shipped On Date': 'Feb-08-24', 'Feedback Left': 'No', 'Feedback Received': '', 'My Item Note': '', 'PayPal Transaction ID': '', 'Shipping Service': 'USPS First Class', 'Tracking Number': '9400108205499772222744', 'Transaction ID': '2707553446002', 'Variation Details': '', 'Global Shipping Program': 'No', 'Global Shipping Reference ID': '', 'Click And Collect': 'No', 'Click And Collect Reference Number': '', 'eBay Plus': 'No', 'Authenticity Verification Program': 'No', 'Authenticity Verification Status': '', 'Authenticity Verification Outcome Reason': '', 'eBay Vault Program': 'No', 'Vault Fulfillment Type': '', 'eBay Fulfillment Program': 'No', 'Tax City': 'Rocky Hill', 'Tax State': 'CT', 'Tax Zip': '06067-3705', 'Tax Country': 'United States', 'eBay International Shipping': 'No'}\n",
      "{'Sales Record Number': '966', 'Order Number': '26-11134-63255', 'Buyer Username': 'all-proelectronics', 'Buyer Name': 'Chris Young', 'Buyer Email': '', 'Buyer Note': '', 'Buyer Address 1': '2223 oakhurst dr', 'Buyer Address 2': '', 'Buyer City': 'delaware', 'Buyer State': 'OH', 'Buyer Zip': '43015-9587', 'Buyer Country': 'United States', 'Buyer Tax Identifier Name': '', 'Buyer Tax Identifier Value': '', 'Ship To Name': 'Chris Young', 'Ship To Phone': '+1 740-972-3094', 'Ship To Address 1': '2223 oakhurst dr', 'Ship To Address 2': '', 'Ship To City': 'delaware', 'Ship To State': 'OH', 'Ship To Zip': '43015-9587', 'Ship To Country': 'United States', 'Item Number': '125159684482', 'Item Title': 'TA-100WA+   Super Replacement for the  Kenwood KA-9100   KA-9150', 'Custom Label': '', 'Sold Via Promoted Listings': 'No', 'Quantity': '1', 'Sold For': '$79.00', 'Shipping And Handling': '$0.00', 'Item Location': 'Austin, Texas', 'Item Zip Code': '78753', 'Item Country': 'US', 'eBay Collect And Remit Tax Rate': '7.00', 'eBay Collect And Remit Tax Type': 'Sales tax', 'eBay Reference Name': '', 'eBay Reference Value': '', 'Tax Status': '', 'Seller Collected Tax': '$0.00', 'eBay Collected Tax': '$5.53', 'Electronic Waste Recycling Fee': '$0.00', 'Mattress Recycling Fee': '$0.00', 'Battery Recycling Fee': '$0.00', 'White Goods Disposal Tax': '$0.00', 'Tire Recycling Fee': '$0.00', 'Additional Fee': '$0.00', 'eBay Collected Charges': '$0.00', 'Total Price': '$84.53', 'eBay Collected Tax and Fees Included in Total': 'Yes', 'Payment Method': '', 'Sale Date': 'Feb-05-24', 'Paid On Date': 'Feb-05-24', 'Ship By Date': 'Feb-07-24', 'Minimum Estimated Delivery Date': 'Feb-09-24', 'Maximum Estimated Delivery Date': 'Feb-09-24', 'Shipped On Date': 'Feb-05-24', 'Feedback Left': 'No', 'Feedback Received': '', 'My Item Note': '', 'PayPal Transaction ID': '420004_S', 'Shipping Service': 'USPS First Class', 'Tracking Number': '9400108205499761358133', 'Transaction ID': '2707078798002', 'Variation Details': '', 'Global Shipping Program': 'No', 'Global Shipping Reference ID': '', 'Click And Collect': 'No', 'Click And Collect Reference Number': '', 'eBay Plus': 'No', 'Authenticity Verification Program': 'No', 'Authenticity Verification Status': '', 'Authenticity Verification Outcome Reason': '', 'eBay Vault Program': 'No', 'Vault Fulfillment Type': '', 'eBay Fulfillment Program': 'No', 'Tax City': 'delaware', 'Tax State': 'OH', 'Tax Zip': '43015-9587', 'Tax Country': 'United States', 'eBay International Shipping': 'No'}\n",
      "{'Sales Record Number': '965', 'Order Number': '02-11144-04481', 'Buyer Username': 'starner_74', 'Buyer Name': 'James Starner', 'Buyer Email': '', 'Buyer Note': '', 'Buyer Address 1': '2948 Myrtle Ave', 'Buyer Address 2': '', 'Buyer City': 'Granite City', 'Buyer State': 'IL', 'Buyer Zip': '62040-5857', 'Buyer Country': 'United States', 'Buyer Tax Identifier Name': '', 'Buyer Tax Identifier Value': '', 'Ship To Name': 'James Starner', 'Ship To Phone': '+1 618-975-5769', 'Ship To Address 1': '2948 Myrtle Ave', 'Ship To Address 2': '', 'Ship To City': 'Granite City', 'Ship To State': 'IL', 'Ship To Zip': '62040-5857', 'Ship To Country': 'United States', 'Item Number': '126054497095', 'Item Title': 'STK0050+   Pioneer  SX-780 or marantz  SR4000  replaces  STK0050 STK0030 STK0040', 'Custom Label': '', 'Sold Via Promoted Listings': 'No', 'Quantity': '2', 'Sold For': '$64.99', 'Shipping And Handling': '$0.00', 'Item Location': 'Austin, Texas', 'Item Zip Code': '78753', 'Item Country': 'US', 'eBay Collect And Remit Tax Rate': '8.35', 'eBay Collect And Remit Tax Type': 'Sales tax', 'eBay Reference Name': '', 'eBay Reference Value': '', 'Tax Status': '', 'Seller Collected Tax': '$0.00', 'eBay Collected Tax': '$10.85', 'Electronic Waste Recycling Fee': '$0.00', 'Mattress Recycling Fee': '$0.00', 'Battery Recycling Fee': '$0.00', 'White Goods Disposal Tax': '$0.00', 'Tire Recycling Fee': '$0.00', 'Additional Fee': '$0.00', 'eBay Collected Charges': '$0.00', 'Total Price': '$140.83', 'eBay Collected Tax and Fees Included in Total': 'Yes', 'Payment Method': '', 'Sale Date': 'Feb-03-24', 'Paid On Date': 'Feb-03-24', 'Ship By Date': 'Feb-06-24', 'Minimum Estimated Delivery Date': 'Feb-12-24', 'Maximum Estimated Delivery Date': 'Feb-12-24', 'Shipped On Date': 'Feb-05-24', 'Feedback Left': 'No', 'Feedback Received': '', 'My Item Note': '', 'PayPal Transaction ID': '420006_S', 'Shipping Service': 'USPS First Class', 'Tracking Number': '9400108205499761446083', 'Transaction ID': '2706507102002', 'Variation Details': '', 'Global Shipping Program': 'No', 'Global Shipping Reference ID': '', 'Click And Collect': 'No', 'Click And Collect Reference Number': '', 'eBay Plus': 'No', 'Authenticity Verification Program': 'No', 'Authenticity Verification Status': '', 'Authenticity Verification Outcome Reason': '', 'eBay Vault Program': 'No', 'Vault Fulfillment Type': '', 'eBay Fulfillment Program': 'No', 'Tax City': 'Granite City', 'Tax State': 'IL', 'Tax Zip': '62040-5857', 'Tax Country': 'United States', 'eBay International Shipping': 'No'}\n",
      "{'Sales Record Number': '964', 'Order Number': '08-11135-37627', 'Buyer Username': 'rockchunker-1', 'Buyer Name': 'Raymond Edge', 'Buyer Email': '', 'Buyer Note': '', 'Buyer Address 1': '4440 Tuttle Creek Blvd  lot 65', 'Buyer Address 2': '', 'Buyer City': 'Manhattan', 'Buyer State': 'KS', 'Buyer Zip': '66502-8820', 'Buyer Country': 'United States', 'Buyer Tax Identifier Name': '', 'Buyer Tax Identifier Value': '', 'Ship To Name': 'Raymond Edge', 'Ship To Phone': '+1 785-414-2172', 'Ship To Address 1': '4440 Tuttle Creek Blvd  lot 65', 'Ship To Address 2': '', 'Ship To City': 'Manhattan', 'Ship To State': 'KS', 'Ship To Zip': '66502-8820', 'Ship To Country': 'United States', 'Item Number': '126054497095', 'Item Title': 'STK0050+   Pioneer  SX-780 or marantz  SR4000  replaces  STK0050 STK0030 STK0040', 'Custom Label': '', 'Sold Via Promoted Listings': 'No', 'Quantity': '1', 'Sold For': '$64.99', 'Shipping And Handling': '$0.00', 'Item Location': 'Austin, Texas', 'Item Zip Code': '78753', 'Item Country': 'US', 'eBay Collect And Remit Tax Rate': '7.20', 'eBay Collect And Remit Tax Type': 'Sales tax', 'eBay Reference Name': '', 'eBay Reference Value': '', 'Tax Status': '', 'Seller Collected Tax': '$0.00', 'eBay Collected Tax': '$4.68', 'Electronic Waste Recycling Fee': '$0.00', 'Mattress Recycling Fee': '$0.00', 'Battery Recycling Fee': '$0.00', 'White Goods Disposal Tax': '$0.00', 'Tire Recycling Fee': '$0.00', 'Additional Fee': '$0.00', 'eBay Collected Charges': '$0.00', 'Total Price': '$69.67', 'eBay Collected Tax and Fees Included in Total': 'Yes', 'Payment Method': '', 'Sale Date': 'Feb-02-24', 'Paid On Date': 'Feb-02-24', 'Ship By Date': 'Feb-06-24', 'Minimum Estimated Delivery Date': 'Feb-06-24', 'Maximum Estimated Delivery Date': 'Feb-06-24', 'Shipped On Date': 'Feb-02-24', 'Feedback Left': 'No', 'Feedback Received': '', 'My Item Note': '', 'PayPal Transaction ID': '420004_S', 'Shipping Service': 'USPS First Class', 'Tracking Number': '9400108205499749294316', 'Transaction ID': '2706256140002', 'Variation Details': '', 'Global Shipping Program': 'No', 'Global Shipping Reference ID': '', 'Click And Collect': 'No', 'Click And Collect Reference Number': '', 'eBay Plus': 'No', 'Authenticity Verification Program': 'No', 'Authenticity Verification Status': '', 'Authenticity Verification Outcome Reason': '', 'eBay Vault Program': 'No', 'Vault Fulfillment Type': '', 'eBay Fulfillment Program': 'No', 'Tax City': 'Manhattan', 'Tax State': 'KS', 'Tax Zip': '66502-8820', 'Tax Country': 'United States', 'eBay International Shipping': 'No'}\n",
      "{'Sales Record Number': '963', 'Order Number': '24-11134-68799', 'Buyer Username': 'mnmnm1951', 'Buyer Name': 'Montgomery Myers', 'Buyer Email': '', 'Buyer Note': '', 'Buyer Address 1': '8711 Linkterrace Ln', 'Buyer Address 2': '', 'Buyer City': 'Houston', 'Buyer State': 'TX', 'Buyer Zip': '77025-3501', 'Buyer Country': 'United States', 'Buyer Tax Identifier Name': '', 'Buyer Tax Identifier Value': '', 'Ship To Name': 'Montgomery Myers', 'Ship To Phone': '+1 832-454-5419', 'Ship To Address 1': '8711 Linkterrace Ln', 'Ship To Address 2': '', 'Ship To City': 'Houston', 'Ship To State': 'TX', 'Ship To Zip': '77025-3501', 'Ship To Country': 'United States', 'Item Number': '125219306356', 'Item Title': 'SP-40W+   replaces  SP-40W    for Pioneer  SX-650  and SA-7300 SA-6700', 'Custom Label': '', 'Sold Via Promoted Listings': 'No', 'Quantity': '2', 'Sold For': '$59.99', 'Shipping And Handling': '$0.00', 'Item Location': 'Austin, Texas', 'Item Zip Code': '78753', 'Item Country': 'US', 'eBay Collect And Remit Tax Rate': '8.25', 'eBay Collect And Remit Tax Type': 'Sales tax', 'eBay Reference Name': '', 'eBay Reference Value': '', 'Tax Status': '', 'Seller Collected Tax': '$0.00', 'eBay Collected Tax': '$9.90', 'Electronic Waste Recycling Fee': '$0.00', 'Mattress Recycling Fee': '$0.00', 'Battery Recycling Fee': '$0.00', 'White Goods Disposal Tax': '$0.00', 'Tire Recycling Fee': '$0.00', 'Additional Fee': '$0.00', 'eBay Collected Charges': '$0.00', 'Total Price': '$129.88', 'eBay Collected Tax and Fees Included in Total': 'Yes', 'Payment Method': '', 'Sale Date': 'Feb-01-24', 'Paid On Date': 'Feb-01-24', 'Ship By Date': 'Feb-05-24', 'Minimum Estimated Delivery Date': 'Feb-05-24', 'Maximum Estimated Delivery Date': 'Feb-05-24', 'Shipped On Date': 'Feb-02-24', 'Feedback Left': 'No', 'Feedback Received': '', 'My Item Note': '', 'PayPal Transaction ID': '', 'Shipping Service': 'USPS First Class', 'Tracking Number': '9400108205499749297652', 'Transaction ID': '2706038723002', 'Variation Details': '', 'Global Shipping Program': 'No', 'Global Shipping Reference ID': '', 'Click And Collect': 'No', 'Click And Collect Reference Number': '', 'eBay Plus': 'No', 'Authenticity Verification Program': 'No', 'Authenticity Verification Status': '', 'Authenticity Verification Outcome Reason': '', 'eBay Vault Program': 'No', 'Vault Fulfillment Type': '', 'eBay Fulfillment Program': 'No', 'Tax City': 'Houston', 'Tax State': 'TX', 'Tax Zip': '77025-3501', 'Tax Country': 'United States', 'eBay International Shipping': 'No'}\n",
      "{'Sales Record Number': '962', 'Order Number': '25-11119-03508', 'Buyer Username': 'pltradinggsy', 'Buyer Name': 'Philip Ledger', 'Buyer Email': '', 'Buyer Note': '', 'Buyer Address 1': 'The Boiler House (by Laserwash)', 'Buyer Address 2': 'Braye Vinery, Route Militaire', 'Buyer City': 'Vale, Guernsey', 'Buyer State': '', 'Buyer Zip': 'GY3 5RP', 'Buyer Country': 'United Kingdom', 'Buyer Tax Identifier Name': '', 'Buyer Tax Identifier Value': '', 'Ship To Name': 'eIS C/O Mr P Ledger T/A PL Services', 'Ship To Phone': '+1 866-540-3229', 'Ship To Address 1': '110 Internationale Blvd', 'Ship To Address 2': 'evtn:26g792n', 'Ship To City': 'Glendale Heights', 'Ship To State': 'IL', 'Ship To Zip': '60139-2080', 'Ship To Country': 'United States', 'Item Number': '125219306356', 'Item Title': 'SP-40W+   replaces  SP-40W    for Pioneer  SX-650  and SA-7300 SA-6700', 'Custom Label': '', 'Sold Via Promoted Listings': 'No', 'Quantity': '2', 'Sold For': '$59.99', 'Shipping And Handling': '$0.00', 'Item Location': 'Austin, Texas', 'Item Zip Code': '78753', 'Item Country': 'US', 'eBay Collect And Remit Tax Rate': '', 'eBay Collect And Remit Tax Type': '', 'eBay Reference Name': '', 'eBay Reference Value': '', 'Tax Status': '', 'Seller Collected Tax': '$0.00', 'eBay Collected Tax': '$0.00', 'Electronic Waste Recycling Fee': '$0.00', 'Mattress Recycling Fee': '$0.00', 'Battery Recycling Fee': '$0.00', 'White Goods Disposal Tax': '$0.00', 'Tire Recycling Fee': '$0.00', 'Additional Fee': '$0.00', 'eBay Collected Charges': '$0.00', 'Total Price': '$119.98', 'eBay Collected Tax and Fees Included in Total': 'No', 'Payment Method': '', 'Sale Date': 'Feb-01-24', 'Paid On Date': 'Feb-01-24', 'Ship By Date': 'Feb-05-24', 'Minimum Estimated Delivery Date': 'Feb-15-24', 'Maximum Estimated Delivery Date': 'Feb-20-24', 'Shipped On Date': 'Feb-02-24', 'Feedback Left': 'No', 'Feedback Received': '', 'My Item Note': '', 'PayPal Transaction ID': '420004_S', 'Shipping Service': 'USPS First Class', 'Tracking Number': '9400108205498604746809', 'Transaction ID': '2706016654002', 'Variation Details': '', 'Global Shipping Program': 'No', 'Global Shipping Reference ID': '', 'Click And Collect': 'No', 'Click And Collect Reference Number': '', 'eBay Plus': 'No', 'Authenticity Verification Program': 'No', 'Authenticity Verification Status': '', 'Authenticity Verification Outcome Reason': '', 'eBay Vault Program': 'No', 'Vault Fulfillment Type': '', 'eBay Fulfillment Program': 'No', 'Tax City': 'Vale, Guernsey', 'Tax State': 'IL', 'Tax Zip': 'GY3 5RP', 'Tax Country': 'United Kingdom', 'eBay International Shipping': 'Yes'}\n"
     ]
    }
   ],
   "source": [
    "# open eBay report\n",
    "order_format = re.compile(r'^\\d{2}-\\d{5}-\\d{5}$')    \n",
    "with open(input_file,'r') as csvread:\n",
    "    next(csvread)\n",
    "    orders = csv.DictReader(csvread)\n",
    "    for line in orders:\n",
    "        if line['Order Number'] is not None \\\n",
    "        and order_format.match(line['Order Number']):\n",
    "            print(line)"
   ]
  },
  {
   "cell_type": "code",
   "execution_count": 3,
   "metadata": {},
   "outputs": [
    {
     "data": {
      "text/plain": [
       "3"
      ]
     },
     "execution_count": 3,
     "metadata": {},
     "output_type": "execute_result"
    }
   ],
   "source": [
    "len(ad)"
   ]
  },
  {
   "cell_type": "code",
   "execution_count": 4,
   "metadata": {},
   "outputs": [
    {
     "ename": "FieldMissingError",
     "evalue": "'SALES RECORD NUMBER:  no such field in table'",
     "output_type": "error",
     "traceback": [
      "\u001b[1;31m---------------------------------------------------------------------------\u001b[0m",
      "\u001b[1;31mFieldMissingError\u001b[0m                         Traceback (most recent call last)",
      "Cell \u001b[1;32mIn[4], line 1\u001b[0m\n\u001b[1;32m----> 1\u001b[0m ad\u001b[39m.\u001b[39;49mappend(line)\n",
      "File \u001b[1;32mc:\\Users\\Shipping\\AppData\\Local\\Programs\\Python\\Python311\\Lib\\site-packages\\dbf\\tables.py:3770\u001b[0m, in \u001b[0;36mTable.append\u001b[1;34m(self, data, drop, multiple)\u001b[0m\n\u001b[0;32m   3768\u001b[0m \u001b[39mtry\u001b[39;00m:\n\u001b[0;32m   3769\u001b[0m     \u001b[39mif\u001b[39;00m dictdata:\n\u001b[1;32m-> 3770\u001b[0m         gather(newrecord, dictdata, drop\u001b[39m=\u001b[39;49mdrop)\n\u001b[0;32m   3771\u001b[0m     \u001b[39melif\u001b[39;00m tupledata:\n\u001b[0;32m   3772\u001b[0m         newrecord\u001b[39m.\u001b[39m_start_flux()\n",
      "File \u001b[1;32mc:\\Users\\Shipping\\AppData\\Local\\Programs\\Python\\Python311\\Lib\\site-packages\\dbf\\utils.py:523\u001b[0m, in \u001b[0;36mgather\u001b[1;34m(record, data, drop)\u001b[0m\n\u001b[0;32m    521\u001b[0m             \u001b[39mif\u001b[39;00m drop:\n\u001b[0;32m    522\u001b[0m                 \u001b[39mcontinue\u001b[39;00m\n\u001b[1;32m--> 523\u001b[0m             \u001b[39mraise\u001b[39;00m dbf\u001b[39m.\u001b[39mFieldMissingError(key)\n\u001b[0;32m    524\u001b[0m         record[key] \u001b[39m=\u001b[39m value\n\u001b[0;32m    525\u001b[0m \u001b[39mexcept\u001b[39;00m:\n",
      "\u001b[1;31mFieldMissingError\u001b[0m: 'SALES RECORD NUMBER:  no such field in table'"
     ]
    }
   ],
   "source": [
    "ad.append(line)"
   ]
  },
  {
   "cell_type": "code",
   "execution_count": 5,
   "metadata": {},
   "outputs": [
    {
     "name": "stdout",
     "output_type": "stream",
     "text": [
      "  0 - REFERRAL  : 'MFG       '\n",
      "  1 - TICKET    : 141487\n",
      "  2 - SHIPPER   : '                         '\n",
      "  3 - FIRST     : 'THOMAS                '\n",
      "  4 - LAST      : 'LAHR                  '\n",
      "  5 - STREET    : '715 BREEZY LAKE WAY             '\n",
      "  6 - CITY      : 'ELDERSBURG     '\n",
      "  7 - STATE     : 'MD '\n",
      "  8 - ZIP       : 21784\n",
      "  9 - PHONE1    : 410.7900189\n",
      " 10 - PHONE2    : 410.5499511\n",
      " 11 - EMAIL     : 'thomas.lahr@comcast.net  '\n",
      " 12 - MAKE      : 'HEGEL          '\n",
      " 13 - MODEL     : 'H590           '\n",
      " 14 - SERIAL    : '10A407              '\n",
      " 15 - DEALER    : '                    '\n",
      " 16 - DLR_CITY  : '          '\n",
      " 17 - DOP       : None\n",
      " 18 - COMP      : '  NO AUDIO'\n",
      " 19 - EXP       : ''\n",
      " 20 - PARTS     : ''\n",
      " 21 - COMMENTS  : '                                                  '\n",
      " 22 - DATE_IN   : datetime.date(2024, 3, 28)\n",
      " 23 - DATE_OUT  : None\n",
      " 24 - TECH      : '   '\n",
      " 25 - WARR      : '          '\n",
      " 26 - PAID_LABOR: None\n",
      " 27 - WLABOR    : None\n",
      " 28 - PAID_PARTS: None\n",
      " 29 - NOTAX     : None\n",
      " 30 - EST_DATE  : None\n",
      " 31 - EST_AMT   : '                              '\n",
      " 32 - EST_OK    : None\n",
      " 33 - WOP_DATE  : None\n",
      " 34 - PAYMENTS  : '          '\n",
      " 35 - SUBTTL    : None\n",
      " 36 - TAXABLE   : False\n",
      " 37 - TAX       : None\n",
      " 38 - TTL       : None\n",
      " 39 - CREDITS   : None\n",
      " 40 - CRED_TYPE : '               '\n",
      " 41 - AMT_DEP   : 99.0\n",
      " 42 - TYPE_DEP  : 'CC   '\n",
      " 43 - DATE_DEP  : datetime.date(2024, 3, 28)\n",
      " 44 - BALANCE   : None\n",
      " 45 - TYPE_PAY  : '     '\n",
      " 46 - PAIDDATE  : None\n",
      " 47 - BUFFER    : '        '\n"
     ]
    }
   ],
   "source": [
    "print(ad[0])"
   ]
  },
  {
   "cell_type": "code",
   "execution_count": 6,
   "metadata": {},
   "outputs": [
    {
     "name": "stdout",
     "output_type": "stream",
     "text": [
      "THOMAS                \n"
     ]
    }
   ],
   "source": [
    "print(ad[0]['FIRST'])"
   ]
  }
 ],
 "metadata": {
  "kernelspec": {
   "display_name": "Python 3",
   "language": "python",
   "name": "python3"
  },
  "language_info": {
   "codemirror_mode": {
    "name": "ipython",
    "version": 3
   },
   "file_extension": ".py",
   "mimetype": "text/x-python",
   "name": "python",
   "nbconvert_exporter": "python",
   "pygments_lexer": "ipython3",
   "version": "3.11.4"
  }
 },
 "nbformat": 4,
 "nbformat_minor": 2
}
